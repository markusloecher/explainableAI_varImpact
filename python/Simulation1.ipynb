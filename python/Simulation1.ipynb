{
 "cells": [
  {
   "cell_type": "code",
   "execution_count": 2,
   "metadata": {
    "colab": {
     "base_uri": "https://localhost:8080/",
     "height": 415
    },
    "colab_type": "code",
    "id": "8f2tsk_4NsJB",
    "outputId": "a02b394c-d704-419d-b9a5-100a92cba9e7"
   },
   "outputs": [],
   "source": [
    "# !pip install shap"
   ]
  },
  {
   "cell_type": "code",
   "execution_count": 3,
   "metadata": {
    "colab": {},
    "colab_type": "code",
    "id": "OnyNu7E8_nAZ"
   },
   "outputs": [],
   "source": [
    "import random\n",
    "import numpy as np\n",
    "import pandas as pd\n",
    "import matplotlib.pyplot as plt\n",
    "\n",
    "import shap \n",
    "\n",
    "import warnings\n",
    "import time\n",
    "import datetime\n",
    "\n",
    "from sklearn.model_selection import train_test_split\n",
    "from sklearn import preprocessing\n",
    "from sklearn.ensemble import RandomForestRegressor"
   ]
  },
  {
   "cell_type": "code",
   "execution_count": 4,
   "metadata": {},
   "outputs": [],
   "source": [
    "#https://github.com/parrt/random-forest-importances/blob/master/src/rfpimp.py\n",
    "def oob_regression_r2_score(rf, X_train, y_train):\n",
    "    \"\"\"\n",
    "    Compute out-of-bag (OOB) R^2 for a scikit-learn random forest\n",
    "    regressor. We learned the guts of scikit's RF from the BSD licensed\n",
    "    code:\n",
    "    https://github.com/scikit-learn/scikit-learn/blob/a24c8b46/sklearn/ensemble/forest.py#L702\n",
    "    \"\"\"\n",
    "    X = X_train.values if isinstance(X_train, pd.DataFrame) else X_train\n",
    "    y = y_train.values if isinstance(y_train, pd.Series) else y_train\n",
    "\n",
    "    n_samples = len(X)\n",
    "    predictions = np.zeros(n_samples)\n",
    "    n_predictions = np.zeros(n_samples)\n",
    "    for tree in rf.estimators_:\n",
    "        unsampled_indices = generate_unsampled_indices(tree.random_state, n_samples)\n",
    "        tree_preds = tree.predict(X[unsampled_indices, :])\n",
    "        predictions[unsampled_indices] += tree_preds\n",
    "        n_predictions[unsampled_indices] += 1\n",
    "\n",
    "    if (n_predictions == 0).any():\n",
    "        warnings.warn(\"Too few trees; some variables do not have OOB scores.\")\n",
    "        n_predictions[n_predictions == 0] = 1\n",
    "\n",
    "    predictions /= n_predictions\n",
    "\n",
    "    oob_score = r2_score(y, predictions)\n",
    "    return oob_score\n",
    "\n",
    "#http://bakfu.github.io/doc/_modules/sklearn/ensemble/forest.html\n",
    "from sklearn.utils import check_random_state #, check_array, compute_sample_weight\n",
    "#from sklearn.utils.fixes import bincount\n",
    "\n",
    "def generate_sample_indices(random_state, n_samples):\n",
    "    \"\"\"Private function used to _parallel_build_trees function.\"\"\"\n",
    "    random_instance = check_random_state(random_state)\n",
    "    sample_indices = random_instance.randint(0, n_samples, n_samples)\n",
    "\n",
    "    return sample_indices\n",
    "\n",
    "def generate_unsampled_indices(random_state, n_samples):\n",
    "    \"\"\"Private function used to forest._set_oob_score fuction.\"\"\"\n",
    "    sample_indices = generate_sample_indices(random_state, n_samples)\n",
    "    sample_counts = np.bincount(sample_indices, minlength=n_samples)\n",
    "    unsampled_mask = sample_counts == 0\n",
    "    indices_range = np.arange(n_samples)\n",
    "    unsampled_indices = indices_range[unsampled_mask]\n",
    "\n",
    "    return unsampled_indices\n",
    "\n",
    "def shap_values_oob(X_train, rf):\n",
    "    n_samples, p = X_train.shape\n",
    "    k=0\n",
    "    shap_oob = np.zeros((n_samples, p, rf.n_estimators))\n",
    "    shap_inbag = np.zeros((n_samples, p, rf.n_estimators))\n",
    "    for tree in rf.estimators_:\n",
    "      tree_preds = tree.predict(X_train)\n",
    "      unsampled_indices = generate_unsampled_indices(tree.random_state, n_samples)\n",
    "      sampled_indices = generate_sample_indices(tree.random_state, n_samples)\n",
    "      explainer = shap.TreeExplainer(tree)\n",
    "      shap_oob[unsampled_indices,:,k] = explainer.shap_values(X_train.iloc[unsampled_indices,:])\n",
    "      shap_inbag[sampled_indices,:,k] = explainer.shap_values(X_train.iloc[sampled_indices,:])\n",
    "      #print(k)\n",
    "      k+=1\n",
    "    \n",
    "    shap_oob_avg = np.sum(shap_oob, axis=2) \n",
    "    shap_inbag_avg = np.sum(shap_inbag, axis=2)\n",
    "    globalSHAPImp_oob =np.sum(np.abs(shap_oob_avg), axis=0)\n",
    "    globalSHAPImp_inbag = np.sum(np.abs(shap_inbag_avg), axis=0)\n",
    "    return shap_oob,shap_inbag,shap_oob_avg,shap_inbag_avg,globalSHAPImp_oob,globalSHAPImp_inbag\n",
    "    "
   ]
  },
  {
   "cell_type": "code",
   "execution_count": 22,
   "metadata": {
    "colab": {},
    "colab_type": "code",
    "id": "hZLpvR71951g"
   },
   "outputs": [],
   "source": [
    "def SimulateData_simple(n=120, # number of rows in data\n",
    "                        M=100, # number of simulations\n",
    "                        #nCores = M, # number of cores to use; set to 1 on Windows!\n",
    "                        relevance = 0.15, # signal srength (0 for NULL)\n",
    "                        inoutbag=False,\n",
    "                        ntree = 100, #number of trees in forest\n",
    "                        #correctBias = c(inbag=TRUE,outbag=TRUE),\n",
    "                        verbose=0,\n",
    "                        n_features = 3):\n",
    "  \n",
    "  random.seed(123)\n",
    "\n",
    "  shap_avs = np.array([0,0,0,0,0]) # Initializes the first array\n",
    "  shap_avs_oob = np.array([0,0,0,0,0]); shap_avs_in = np.array([0,0,0,0,0])\n",
    "  ft_importances = np.array([0,0,0,0,0]) # Initializes the first array\n",
    "  shap_vals = np.array([0,0,0,0,0]) # Initializes the first array\n",
    "  shap_vals_oob = np.array([0,0,0,0,0]); shap_vals_in = np.array([0,0,0,0,0]) \n",
    "  allDFs = [] # List of DFs that will be filled\n",
    "  y_train = []\n",
    "\n",
    "  for i in range(M):\n",
    "\n",
    "    x1 = np.random.randn(n)\n",
    "    x2 = np.random.randint(1, 3, n)\n",
    "    x3 = np.random.randint(1, 5, n)\n",
    "    x4 = np.random.randint(1, 11, n)\n",
    "    x5 = np.random.randint(1, 21, n)\n",
    "    # y = np.random.binomial(n = 1, p = 0.5 + [-1,1][x2[0]-1] * relevance, size = n)\n",
    "    y = np.array([]) \n",
    "    for i in range(n):\n",
    "      y = np.append(y, np.random.binomial(n = 1, p = 0.5 + [-1,1][x2[i]-1] * relevance, size = 1))\n",
    "\n",
    "    x_train = pd.DataFrame({'x1': x1, 'x2': x2, 'x3': x3, 'x4': x4, 'x5': x5}, columns=['x1', 'x2', 'x3', 'x4', 'x5'])\n",
    "    # y_train = pd.DataFrame({'y': y}, columns=['y'])\n",
    "\n",
    "    rf = RandomForestRegressor(max_depth=50, random_state=0, n_estimators=ntree,max_features=n_features) \n",
    "    rf.fit(x_train, y)\n",
    "    feature_importances = rf.feature_importances_\n",
    "    # print(feature_importances)\n",
    "    ft_importances = np.vstack((ft_importances, feature_importances))\n",
    "    allDFs.append(x_train)\n",
    "    y_train.append(y)\n",
    "    \n",
    "    warnings.filterwarnings('ignore')\n",
    "    if (inoutbag):\n",
    "        shap_oob,shap_inbag,shap_oob_avg,shap_inbag_avg,globalSHAPImp_oob,globalSHAPImp_inbag = shap_values_oob(x_train, rf)\n",
    "        shap_vals_oob = np.vstack((shap_vals_oob, shap_oob_avg))\n",
    "        shap_vals_in = np.vstack((shap_vals_in, shap_inbag_avg))\n",
    "        shap_avs_oob = np.vstack((shap_avs_oob, globalSHAPImp_oob))\n",
    "        shap_avs_in = np.vstack((shap_avs_in, globalSHAPImp_inbag))\n",
    "        #return(shap_oob,shap_inbag,shap_oob_avg,shap_inbag_avg,globalSHAPImp_oob,globalSHAPImp_inbag, rlvFtrs)\n",
    "    else:    \n",
    "        shap_values = shap.TreeExplainer(rf).shap_values(x_train)\n",
    "        shap_averages = np.sum(np.absolute(shap_values), axis=0)\n",
    "\n",
    "        shap_vals = np.vstack((shap_vals, shap_values))\n",
    "        shap_avs = np.vstack((shap_avs, shap_averages))\n",
    "  \n",
    "  ft_importances = np.delete(ft_importances, (0), axis=0) # Deletes the initialization\n",
    "\n",
    "  if (inoutbag):\n",
    "      shap_vals_oob = np.delete(shap_vals_oob, (0), axis=0) # Deletes the initialization\n",
    "      shap_vals_in = np.delete(shap_vals_in, (0), axis=0)\n",
    "      shap_avs_oob = np.delete(shap_avs_oob, (0), axis=0) # Deletes the initialization\n",
    "      shap_avs_in = np.delete(shap_avs_in, (0), axis=0)\n",
    "      return(shap_vals_oob,shap_vals_in,shap_avs_oob, shap_avs_in, ft_importances, allDFs, n, y_train)\n",
    "  else: \n",
    "      shap_vals = np.delete(shap_vals, (0), axis=0) # Deletes the initialization\n",
    "      shap_avs = np.delete(shap_avs, (0), axis=0) # Deletes the initialization\n",
    "      return(shap_vals, shap_avs, ft_importances, allDFs, n)\n"
   ]
  },
  {
   "cell_type": "code",
   "execution_count": 6,
   "metadata": {
    "colab": {},
    "colab_type": "code",
    "id": "pQ8X6bvtRgzf"
   },
   "outputs": [],
   "source": [
    "def beeswarm(simulation, n):\n",
    "  shap.summary_plot(shap_vals[0+n*simulation:n+n*simulation], allDFs[simulation], show=True)"
   ]
  },
  {
   "cell_type": "code",
   "execution_count": 31,
   "metadata": {},
   "outputs": [
    {
     "name": "stdout",
     "output_type": "stream",
     "text": [
      "2020-05-19 07:31:30.932309\n",
      "--- %s seconds --- 54.46132135391235\n"
     ]
    }
   ],
   "source": [
    "print(datetime.datetime.now())\n",
    "start_time = time.time()\n",
    "\n",
    "shap_vals_oob,shap_vals_in,shap_avs_oob, shap_avs_in, ft_importances, allDFs, n, y_train = SimulateData_simple(n=120, M=100, inoutbag = True)\n",
    "\n",
    "print(\"--- %s seconds ---\" , (time.time() - start_time))\n",
    "y_train = np.concatenate(y_train)"
   ]
  },
  {
   "cell_type": "code",
   "execution_count": 32,
   "metadata": {},
   "outputs": [
    {
     "name": "stdout",
     "output_type": "stream",
     "text": [
      "(12000, 5) (100, 5) (12000,)\n"
     ]
    }
   ],
   "source": [
    "print(shap_vals_oob.shape,shap_avs_oob.shape, y_train.shape)"
   ]
  },
  {
   "cell_type": "code",
   "execution_count": null,
   "metadata": {},
   "outputs": [],
   "source": [
    "shap_oob_all_wghted = (shap_vals_oob.T*y_train).T\n",
    "shap_inbag_all_wghted = (shap_inbag_all.T*y_train).T\n",
    "\n",
    "print(shap_inbag_all_wghted.shape,shap_oob_all_wghted.shape)"
   ]
  },
  {
   "cell_type": "code",
   "execution_count": 25,
   "metadata": {},
   "outputs": [
    {
     "name": "stdout",
     "output_type": "stream",
     "text": [
      "(12000, 5) (12000, 5) (12000,)\n"
     ]
    }
   ],
   "source": [
    "shap_vals_oob.tofile(\"data/shap_vals_oob_sim1_power.tsv\",\"\\t\")\n",
    "shap_vals_in.tofile(\"data/shap_vals_in_sim1_power.tsv\",\"\\t\")\n",
    "y_train.tofile(\"data/y_train_sim1_power.tsv\",\"\\t\")\n",
    "\n",
    "shap_avs_oob.tofile(\"shap_avs_sim1_oob_power.tsv\",\"\\t\")\n",
    "shap_avs_in.tofile(\"shap_avs_sim1_inbag_power.tsv\",\"\\t\")\n",
    "\n",
    "print(shap_vals_oob.shape, shap_vals_in.shape, y_train.shape)"
   ]
  },
  {
   "cell_type": "code",
   "execution_count": 16,
   "metadata": {},
   "outputs": [
    {
     "data": {
      "text/plain": [
       "Text(0.5, 1.0, 'Inbag')"
      ]
     },
     "execution_count": 16,
     "metadata": {},
     "output_type": "execute_result"
    },
    {
     "data": {
      "image/png": "[encoded data removed]",
      "text/plain": [
       "<Figure size 432x288 with 2 Axes>"
      ]
     },
     "metadata": {
      "needs_background": "light"
     },
     "output_type": "display_data"
    }
   ],
   "source": [
    "#plt.boxplot(shap_avs_oob);\n",
    "#plt.boxplot(shap_avs_in);\n",
    "fig, (ax1, ax2) = plt.subplots(1, 2)\n",
    "fig.suptitle('Power Simulation')\n",
    "ax1.boxplot(shap_avs_oob);ax1.set_title('OOB')\n",
    "ax2.boxplot(shap_avs_in);ax2.set_title('Inbag')"
   ]
  },
  {
   "cell_type": "code",
   "execution_count": 24,
   "metadata": {},
   "outputs": [
    {
     "name": "stdout",
     "output_type": "stream",
     "text": [
      "(12000,)\n"
     ]
    }
   ],
   "source": [
    "print(np.concatenate(y_train).shape)"
   ]
  },
  {
   "cell_type": "code",
   "execution_count": 5,
   "metadata": {
    "colab": {},
    "colab_type": "code",
    "id": "AoxNDP60NTlb"
   },
   "outputs": [
    {
     "name": "stderr",
     "output_type": "stream",
     "text": [
      "Setting feature_perturbation = \"tree_path_dependent\" because no background data was given.\n",
      "Setting feature_perturbation = \"tree_path_dependent\" because no background data was given.\n",
      "Setting feature_perturbation = \"tree_path_dependent\" because no background data was given.\n",
      "Setting feature_perturbation = \"tree_path_dependent\" because no background data was given.\n",
      "Setting feature_perturbation = \"tree_path_dependent\" because no background data was given.\n",
      "Setting feature_perturbation = \"tree_path_dependent\" because no background data was given.\n",
      "Setting feature_perturbation = \"tree_path_dependent\" because no background data was given.\n",
      "Setting feature_perturbation = \"tree_path_dependent\" because no background data was given.\n",
      "Setting feature_perturbation = \"tree_path_dependent\" because no background data was given.\n",
      "Setting feature_perturbation = \"tree_path_dependent\" because no background data was given.\n",
      "Setting feature_perturbation = \"tree_path_dependent\" because no background data was given.\n",
      "Setting feature_perturbation = \"tree_path_dependent\" because no background data was given.\n",
      "Setting feature_perturbation = \"tree_path_dependent\" because no background data was given.\n",
      "Setting feature_perturbation = \"tree_path_dependent\" because no background data was given.\n",
      "Setting feature_perturbation = \"tree_path_dependent\" because no background data was given.\n",
      "Setting feature_perturbation = \"tree_path_dependent\" because no background data was given.\n",
      "Setting feature_perturbation = \"tree_path_dependent\" because no background data was given.\n",
      "Setting feature_perturbation = \"tree_path_dependent\" because no background data was given.\n",
      "Setting feature_perturbation = \"tree_path_dependent\" because no background data was given.\n",
      "Setting feature_perturbation = \"tree_path_dependent\" because no background data was given.\n",
      "Setting feature_perturbation = \"tree_path_dependent\" because no background data was given.\n",
      "Setting feature_perturbation = \"tree_path_dependent\" because no background data was given.\n",
      "Setting feature_perturbation = \"tree_path_dependent\" because no background data was given.\n",
      "Setting feature_perturbation = \"tree_path_dependent\" because no background data was given.\n",
      "Setting feature_perturbation = \"tree_path_dependent\" because no background data was given.\n",
      "Setting feature_perturbation = \"tree_path_dependent\" because no background data was given.\n",
      "Setting feature_perturbation = \"tree_path_dependent\" because no background data was given.\n",
      "Setting feature_perturbation = \"tree_path_dependent\" because no background data was given.\n",
      "Setting feature_perturbation = \"tree_path_dependent\" because no background data was given.\n",
      "Setting feature_perturbation = \"tree_path_dependent\" because no background data was given.\n",
      "Setting feature_perturbation = \"tree_path_dependent\" because no background data was given.\n",
      "Setting feature_perturbation = \"tree_path_dependent\" because no background data was given.\n",
      "Setting feature_perturbation = \"tree_path_dependent\" because no background data was given.\n",
      "Setting feature_perturbation = \"tree_path_dependent\" because no background data was given.\n",
      "Setting feature_perturbation = \"tree_path_dependent\" because no background data was given.\n",
      "Setting feature_perturbation = \"tree_path_dependent\" because no background data was given.\n",
      "Setting feature_perturbation = \"tree_path_dependent\" because no background data was given.\n",
      "Setting feature_perturbation = \"tree_path_dependent\" because no background data was given.\n",
      "Setting feature_perturbation = \"tree_path_dependent\" because no background data was given.\n",
      "Setting feature_perturbation = \"tree_path_dependent\" because no background data was given.\n",
      "Setting feature_perturbation = \"tree_path_dependent\" because no background data was given.\n",
      "Setting feature_perturbation = \"tree_path_dependent\" because no background data was given.\n",
      "Setting feature_perturbation = \"tree_path_dependent\" because no background data was given.\n",
      "Setting feature_perturbation = \"tree_path_dependent\" because no background data was given.\n",
      "Setting feature_perturbation = \"tree_path_dependent\" because no background data was given.\n",
      "Setting feature_perturbation = \"tree_path_dependent\" because no background data was given.\n",
      "Setting feature_perturbation = \"tree_path_dependent\" because no background data was given.\n",
      "Setting feature_perturbation = \"tree_path_dependent\" because no background data was given.\n",
      "Setting feature_perturbation = \"tree_path_dependent\" because no background data was given.\n",
      "Setting feature_perturbation = \"tree_path_dependent\" because no background data was given.\n",
      "Setting feature_perturbation = \"tree_path_dependent\" because no background data was given.\n",
      "Setting feature_perturbation = \"tree_path_dependent\" because no background data was given.\n",
      "Setting feature_perturbation = \"tree_path_dependent\" because no background data was given.\n",
      "Setting feature_perturbation = \"tree_path_dependent\" because no background data was given.\n",
      "Setting feature_perturbation = \"tree_path_dependent\" because no background data was given.\n",
      "Setting feature_perturbation = \"tree_path_dependent\" because no background data was given.\n",
      "Setting feature_perturbation = \"tree_path_dependent\" because no background data was given.\n",
      "Setting feature_perturbation = \"tree_path_dependent\" because no background data was given.\n",
      "Setting feature_perturbation = \"tree_path_dependent\" because no background data was given.\n",
      "Setting feature_perturbation = \"tree_path_dependent\" because no background data was given.\n",
      "Setting feature_perturbation = \"tree_path_dependent\" because no background data was given.\n",
      "Setting feature_perturbation = \"tree_path_dependent\" because no background data was given.\n",
      "Setting feature_perturbation = \"tree_path_dependent\" because no background data was given.\n",
      "Setting feature_perturbation = \"tree_path_dependent\" because no background data was given.\n",
      "Setting feature_perturbation = \"tree_path_dependent\" because no background data was given.\n",
      "Setting feature_perturbation = \"tree_path_dependent\" because no background data was given.\n",
      "Setting feature_perturbation = \"tree_path_dependent\" because no background data was given.\n",
      "Setting feature_perturbation = \"tree_path_dependent\" because no background data was given.\n",
      "Setting feature_perturbation = \"tree_path_dependent\" because no background data was given.\n",
      "Setting feature_perturbation = \"tree_path_dependent\" because no background data was given.\n",
      "Setting feature_perturbation = \"tree_path_dependent\" because no background data was given.\n",
      "Setting feature_perturbation = \"tree_path_dependent\" because no background data was given.\n",
      "Setting feature_perturbation = \"tree_path_dependent\" because no background data was given.\n",
      "Setting feature_perturbation = \"tree_path_dependent\" because no background data was given.\n",
      "Setting feature_perturbation = \"tree_path_dependent\" because no background data was given.\n",
      "Setting feature_perturbation = \"tree_path_dependent\" because no background data was given.\n",
      "Setting feature_perturbation = \"tree_path_dependent\" because no background data was given.\n",
      "Setting feature_perturbation = \"tree_path_dependent\" because no background data was given.\n",
      "Setting feature_perturbation = \"tree_path_dependent\" because no background data was given.\n",
      "Setting feature_perturbation = \"tree_path_dependent\" because no background data was given.\n",
      "Setting feature_perturbation = \"tree_path_dependent\" because no background data was given.\n",
      "Setting feature_perturbation = \"tree_path_dependent\" because no background data was given.\n",
      "Setting feature_perturbation = \"tree_path_dependent\" because no background data was given.\n",
      "Setting feature_perturbation = \"tree_path_dependent\" because no background data was given.\n",
      "Setting feature_perturbation = \"tree_path_dependent\" because no background data was given.\n",
      "Setting feature_perturbation = \"tree_path_dependent\" because no background data was given.\n",
      "Setting feature_perturbation = \"tree_path_dependent\" because no background data was given.\n",
      "Setting feature_perturbation = \"tree_path_dependent\" because no background data was given.\n",
      "Setting feature_perturbation = \"tree_path_dependent\" because no background data was given.\n",
      "Setting feature_perturbation = \"tree_path_dependent\" because no background data was given.\n",
      "Setting feature_perturbation = \"tree_path_dependent\" because no background data was given.\n",
      "Setting feature_perturbation = \"tree_path_dependent\" because no background data was given.\n",
      "Setting feature_perturbation = \"tree_path_dependent\" because no background data was given.\n",
      "Setting feature_perturbation = \"tree_path_dependent\" because no background data was given.\n",
      "Setting feature_perturbation = \"tree_path_dependent\" because no background data was given.\n",
      "Setting feature_perturbation = \"tree_path_dependent\" because no background data was given.\n",
      "Setting feature_perturbation = \"tree_path_dependent\" because no background data was given.\n",
      "Setting feature_perturbation = \"tree_path_dependent\" because no background data was given.\n",
      "Setting feature_perturbation = \"tree_path_dependent\" because no background data was given.\n",
      "Setting feature_perturbation = \"tree_path_dependent\" because no background data was given.\n"
     ]
    },
    {
     "name": "stdout",
     "output_type": "stream",
     "text": [
      "--- 18.279312133789062 seconds ---\n"
     ]
    }
   ],
   "source": [
    "start_time = time.time()\n",
    "\n",
    "shap_vals, shap_avs, ft_importances, allDFs, n = SimulateData_simple(n=120, M=100)\n",
    "\n",
    "print(\"--- %s seconds ---\" % (time.time() - start_time))"
   ]
  },
  {
   "cell_type": "code",
   "execution_count": 6,
   "metadata": {
    "colab": {
     "base_uri": "https://localhost:8080/",
     "height": 259
    },
    "colab_type": "code",
    "id": "Z3GW8GeWWFxx",
    "outputId": "761429bd-b720-46b2-cb4f-33cf87aba753"
   },
   "outputs": [
    {
     "data": {
      "image/png": "[encoded data removed]",
      "text/plain": [
       "<Figure size 576x252 with 2 Axes>"
      ]
     },
     "metadata": {
      "needs_background": "light"
     },
     "output_type": "display_data"
    }
   ],
   "source": [
    "beeswarm(0, n) # plots the M-th simulation "
   ]
  },
  {
   "cell_type": "code",
   "execution_count": 7,
   "metadata": {
    "colab": {
     "base_uri": "https://localhost:8080/",
     "height": 265
    },
    "colab_type": "code",
    "id": "HBNu_L_fYAuH",
    "outputId": "bbcfbbd2-2e52-49dc-d5f5-774a20283996"
   },
   "outputs": [
    {
     "data": {
      "image/png": "[encoded data removed]",
      "text/plain": [
       "<Figure size 432x288 with 1 Axes>"
      ]
     },
     "metadata": {
      "needs_background": "light"
     },
     "output_type": "display_data"
    }
   ],
   "source": [
    "plt.boxplot(shap_avs);"
   ]
  },
  {
   "cell_type": "code",
   "execution_count": 8,
   "metadata": {
    "colab": {
     "base_uri": "https://localhost:8080/",
     "height": 267
    },
    "colab_type": "code",
    "id": "KtJlhunFnhaN",
    "outputId": "c5c279ee-e797-4426-c06c-2c4f4fead197"
   },
   "outputs": [
    {
     "data": {
      "image/png": "[encoded data removed]",
      "text/plain": [
       "<Figure size 432x288 with 1 Axes>"
      ]
     },
     "metadata": {
      "needs_background": "light"
     },
     "output_type": "display_data"
    }
   ],
   "source": [
    "plt.boxplot(ft_importances);"
   ]
  },
  {
   "cell_type": "code",
   "execution_count": 11,
   "metadata": {
    "colab": {},
    "colab_type": "code",
    "id": "0eXrFNsgnnuW"
   },
   "outputs": [
    {
     "data": {
      "text/plain": [
       "numpy.ndarray"
      ]
     },
     "execution_count": 11,
     "metadata": {},
     "output_type": "execute_result"
    }
   ],
   "source": [
    "type(shap_avs)"
   ]
  },
  {
   "cell_type": "code",
   "execution_count": 19,
   "metadata": {},
   "outputs": [],
   "source": [
    "shap_avs.tofile(\"shap_avs_sim1_power.tsv\",\"\\t\")"
   ]
  },
  {
   "cell_type": "markdown",
   "metadata": {},
   "source": [
    "#### NULL simulation\n"
   ]
  },
  {
   "cell_type": "code",
   "execution_count": 15,
   "metadata": {},
   "outputs": [
    {
     "name": "stdout",
     "output_type": "stream",
     "text": [
      "--- 18.82581615447998 seconds ---\n"
     ]
    }
   ],
   "source": [
    "start_time = time.time()\n",
    "\n",
    "shap_vals0, shap_avs0, ft_importances0, allDFs0, n0 = SimulateData_simple(n=120, M=100, relevance=0)\n",
    "\n",
    "print(\"--- %s seconds ---\" % (time.time() - start_time))"
   ]
  },
  {
   "cell_type": "code",
   "execution_count": 16,
   "metadata": {},
   "outputs": [
    {
     "data": {
      "image/png": "[encoded data removed]",
      "text/plain": [
       "<Figure size 432x288 with 1 Axes>"
      ]
     },
     "metadata": {
      "needs_background": "light"
     },
     "output_type": "display_data"
    }
   ],
   "source": [
    "plt.boxplot(shap_avs0);"
   ]
  },
  {
   "cell_type": "code",
   "execution_count": 18,
   "metadata": {},
   "outputs": [],
   "source": []
  },
  {
   "cell_type": "code",
   "execution_count": 27,
   "metadata": {},
   "outputs": [
    {
     "name": "stdout",
     "output_type": "stream",
     "text": [
      "1589717234.8516526\n",
      "--- %s seconds --- 55.749228715896606\n",
      "(100, 5)\n"
     ]
    }
   ],
   "source": [
    "start_time = time.time()\n",
    "print(datetime.datetime.now())\n",
    "shap_vals_oob0,shap_vals_in0,shap_avs_oob0, shap_avs_in0, ft_importances0, allDFs0, n0, y_train0 = SimulateData_simple(n=120, M=100, relevance=0, inoutbag = True)\n",
    "\n",
    "print(\"--- %s seconds ---\" , (time.time() - start_time))\n",
    "print(shap_avs_oob0.shape)\n",
    "\n",
    "y_train0 = np.concatenate(y_train0)\n"
   ]
  },
  {
   "cell_type": "code",
   "execution_count": 28,
   "metadata": {},
   "outputs": [
    {
     "name": "stdout",
     "output_type": "stream",
     "text": [
      "(12000, 5) (12000, 5) (12000,)\n"
     ]
    },
    {
     "data": {
      "text/plain": [
       "1589717305.1352289"
      ]
     },
     "execution_count": 28,
     "metadata": {},
     "output_type": "execute_result"
    }
   ],
   "source": [
    "shap_vals_oob0.tofile(\"data/shap_vals_oob_sim1_null.tsv\",\"\\t\")\n",
    "shap_vals_in0.tofile(\"data/shap_vals_in_sim1_null.tsv\",\"\\t\")\n",
    "y_train0.tofile(\"data/y_train_sim1_null.tsv\",\"\\t\")\n",
    "\n",
    "shap_avs_oob0.tofile(\"shap_avs_sim1_oob_null.tsv\",\"\\t\")\n",
    "shap_avs_in0.tofile(\"shap_avs_sim1_inbag_null.tsv\",\"\\t\")\n",
    "\n",
    "print(shap_vals_oob.shape, shap_vals_in.shape, y_train.shape)\n",
    "import datetime\n",
    "print(datetime.datetime.now())\n",
    "#shap_avs0.tofile(\"shap_avs_sim1_null.tsv\",\"\\t\")"
   ]
  },
  {
   "cell_type": "code",
   "execution_count": 17,
   "metadata": {},
   "outputs": [
    {
     "data": {
      "text/plain": [
       "Text(0.5, 1.0, 'Inbag')"
      ]
     },
     "execution_count": 17,
     "metadata": {},
     "output_type": "execute_result"
    },
    {
     "data": {
      "image/png": "[encoded data removed]",
      "text/plain": [
       "<Figure size 432x288 with 2 Axes>"
      ]
     },
     "metadata": {
      "needs_background": "light"
     },
     "output_type": "display_data"
    }
   ],
   "source": [
    "fig, (ax1, ax2) = plt.subplots(1, 2)\n",
    "fig.suptitle('NULL Simulation')\n",
    "ax1.boxplot(shap_avs_oob0);ax1.set_title('OOB')\n",
    "ax2.boxplot(shap_avs_in0);ax2.set_title('Inbag')"
   ]
  },
  {
   "cell_type": "code",
   "execution_count": 21,
   "metadata": {},
   "outputs": [],
   "source": [
    "shap_avs_oob0.tofile(\"shap_avs_sim1_oob_null.tsv\",\"\\t\")\n",
    "shap_avs_in0.tofile(\"shap_avs_sim1_inbag_null.tsv\",\"\\t\")"
   ]
  },
  {
   "cell_type": "code",
   "execution_count": 29,
   "metadata": {},
   "outputs": [
    {
     "name": "stdout",
     "output_type": "stream",
     "text": [
      "2020-05-17 12:11:37.926191\n"
     ]
    }
   ],
   "source": [
    "import datetime\n",
    "print(datetime.datetime.now())"
   ]
  },
  {
   "cell_type": "code",
   "execution_count": 30,
   "metadata": {},
   "outputs": [
    {
     "name": "stdout",
     "output_type": "stream",
     "text": [
      "data/rlvFtrs_all.tsv\n",
      "data/shap_inbag_all.tsv\n",
      "data/shap_oob_all.tsv\n",
      "data/shap_vals_in_sim1_null.tsv\n",
      "data/shap_vals_in_sim1_power.tsv\n",
      "data/shap_vals_oob_sim1_null.tsv\n",
      "data/shap_vals_oob_sim1_power.tsv\n",
      "data/y_train_all.tsv\n",
      "data/y_train_sim1_null.tsv\n",
      "data/y_train_sim1_power.tsv\n"
     ]
    }
   ],
   "source": [
    "!tar chvfz SHAPsimData.tar.gz data/*"
   ]
  },
  {
   "cell_type": "code",
   "execution_count": null,
   "metadata": {},
   "outputs": [],
   "source": []
  }
 ],
 "metadata": {
  "colab": {
   "collapsed_sections": [],
   "name": "R2Python-Simulation1.ipynb",
   "provenance": []
  },
  "kernelspec": {
   "display_name": "Python 3",
   "language": "python",
   "name": "python3"
  },
  "language_info": {
   "codemirror_mode": {
    "name": "ipython",
    "version": 3
   },
   "file_extension": ".py",
   "mimetype": "text/x-python",
   "name": "python",
   "nbconvert_exporter": "python",
   "pygments_lexer": "ipython3",
   "version": "3.6.7"
  }
 },
 "nbformat": 4,
 "nbformat_minor": 1
}
