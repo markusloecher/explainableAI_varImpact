{
 "cells": [
  {
   "cell_type": "code",
   "execution_count": 30,
   "metadata": {
    "colab": {},
    "colab_type": "code",
    "id": "_cu9f0eHzj8J"
   },
   "outputs": [],
   "source": [
    "import pandas as pd\n",
    "import numpy as np\n",
    "np.random.seed(0)\n",
    "import matplotlib.pyplot as plt\n",
    "import shap\n",
    "import pickle\n",
    "import sklearn\n",
    "import sklearn as sklearn\n",
    "from sklearn.metrics import r2_score\n",
    "from sklearn.ensemble.forest import _get_n_samples_bootstrap\n",
    "from sklearn.ensemble.forest import _generate_unsampled_indices\n",
    "from distutils.version import LooseVersion\n",
    "\n",
    "from sklearn.model_selection import train_test_split\n",
    "from sklearn import preprocessing\n",
    "from sklearn.ensemble import RandomForestRegressor\n",
    "rerun = True # True"
   ]
  },
  {
   "cell_type": "code",
   "execution_count": 6,
   "metadata": {
    "colab": {
     "base_uri": "https://localhost:8080/",
     "height": 930
    },
    "colab_type": "code",
    "id": "EGwaZ1m7zpR5",
    "outputId": "d0091515-6a47-49fd-8b0a-e5074164318c"
   },
   "outputs": [
    {
     "output_type": "execute_result",
     "data": {
      "text/plain": "   PassengerId  Survived  Pclass  \\\n0            1         0       3   \n1            2         1       1   \n2            3         1       3   \n3            4         1       1   \n4            5         0       3   \n\n                                                Name  Sex   Age  SibSp  Parch  \\\n0                            Braund, Mr. Owen Harris    2  22.0      1      0   \n1  Cumings, Mrs. John Bradley (Florence Briggs Th...    1  38.0      1      0   \n2                             Heikkinen, Miss. Laina    1  26.0      0      0   \n3       Futrelle, Mrs. Jacques Heath (Lily May Peel)    1  35.0      1      0   \n4                           Allen, Mr. William Henry    2  35.0      0      0   \n\n             Ticket     Fare Cabin Embarked  \n0         A/5 21171   7.2500   NaN        S  \n1          PC 17599  71.2833   C85        C  \n2  STON/O2. 3101282   7.9250   NaN        S  \n3            113803  53.1000  C123        S  \n4            373450   8.0500   NaN        S  ",
      "text/html": "<div>\n<style scoped>\n    .dataframe tbody tr th:only-of-type {\n        vertical-align: middle;\n    }\n\n    .dataframe tbody tr th {\n        vertical-align: top;\n    }\n\n    .dataframe thead th {\n        text-align: right;\n    }\n</style>\n<table border=\"1\" class=\"dataframe\">\n  <thead>\n    <tr style=\"text-align: right;\">\n      <th></th>\n      <th>PassengerId</th>\n      <th>Survived</th>\n      <th>Pclass</th>\n      <th>Name</th>\n      <th>Sex</th>\n      <th>Age</th>\n      <th>SibSp</th>\n      <th>Parch</th>\n      <th>Ticket</th>\n      <th>Fare</th>\n      <th>Cabin</th>\n      <th>Embarked</th>\n    </tr>\n  </thead>\n  <tbody>\n    <tr>\n      <th>0</th>\n      <td>1</td>\n      <td>0</td>\n      <td>3</td>\n      <td>Braund, Mr. Owen Harris</td>\n      <td>2</td>\n      <td>22.0</td>\n      <td>1</td>\n      <td>0</td>\n      <td>A/5 21171</td>\n      <td>7.2500</td>\n      <td>NaN</td>\n      <td>S</td>\n    </tr>\n    <tr>\n      <th>1</th>\n      <td>2</td>\n      <td>1</td>\n      <td>1</td>\n      <td>Cumings, Mrs. John Bradley (Florence Briggs Th...</td>\n      <td>1</td>\n      <td>38.0</td>\n      <td>1</td>\n      <td>0</td>\n      <td>PC 17599</td>\n      <td>71.2833</td>\n      <td>C85</td>\n      <td>C</td>\n    </tr>\n    <tr>\n      <th>2</th>\n      <td>3</td>\n      <td>1</td>\n      <td>3</td>\n      <td>Heikkinen, Miss. Laina</td>\n      <td>1</td>\n      <td>26.0</td>\n      <td>0</td>\n      <td>0</td>\n      <td>STON/O2. 3101282</td>\n      <td>7.9250</td>\n      <td>NaN</td>\n      <td>S</td>\n    </tr>\n    <tr>\n      <th>3</th>\n      <td>4</td>\n      <td>1</td>\n      <td>1</td>\n      <td>Futrelle, Mrs. Jacques Heath (Lily May Peel)</td>\n      <td>1</td>\n      <td>35.0</td>\n      <td>1</td>\n      <td>0</td>\n      <td>113803</td>\n      <td>53.1000</td>\n      <td>C123</td>\n      <td>S</td>\n    </tr>\n    <tr>\n      <th>4</th>\n      <td>5</td>\n      <td>0</td>\n      <td>3</td>\n      <td>Allen, Mr. William Henry</td>\n      <td>2</td>\n      <td>35.0</td>\n      <td>0</td>\n      <td>0</td>\n      <td>373450</td>\n      <td>8.0500</td>\n      <td>NaN</td>\n      <td>S</td>\n    </tr>\n  </tbody>\n</table>\n</div>"
     },
     "metadata": {},
     "execution_count": 6
    }
   ],
   "source": [
    "df = pd.read_csv('https://raw.githubusercontent.com/markusloecher/shap/master/Explore/titanicnoMissingAge.csv') # Load the data\n",
    "df.head()"
   ]
  },
  {
   "cell_type": "code",
   "execution_count": 7,
   "metadata": {
    "colab": {},
    "colab_type": "code",
    "id": "kSKGErUeztro"
   },
   "outputs": [],
   "source": [
    "Y = df['Survived']\n",
    "X =  df[['Age', 'Pclass','Sex', 'PassengerId']]\n",
    "# Split the data into train and test data:\n",
    "X_train, X_test, Y_train, Y_test = train_test_split(X, Y, test_size = 0.2)"
   ]
  },
  {
   "cell_type": "code",
   "execution_count": 10,
   "metadata": {
    "colab": {},
    "colab_type": "code",
    "id": "KNlouaO6zx5z"
   },
   "outputs": [],
   "source": [
    "def plotImp(importances,features, main = 'Feature Importances',xlab='Relative Importance'):\n",
    "    indices = np.argsort(importances)\n",
    "    #features = X_train.columns\n",
    "    plt.title(main)\n",
    "    plt.barh(range(len(indices)), importances[indices], color='b', align='center')\n",
    "    plt.yticks(range(len(indices)), [features[i] for i in indices])\n",
    "    plt.xlabel(xlab)\n",
    "    plt.show()"
   ]
  },
  {
   "cell_type": "code",
   "execution_count": 11,
   "metadata": {
    "colab": {
     "base_uri": "https://localhost:8080/",
     "height": 36
    },
    "colab_type": "code",
    "id": "8JEdCFQn0BoU",
    "outputId": "a92818f2-b349-4945-d8b8-337622160ea1",
    "tags": []
   },
   "outputs": [
    {
     "output_type": "stream",
     "name": "stdout",
     "text": "[0.26975449 0.14099629 0.26011288 0.32913634]\n"
    }
   ],
   "source": [
    "rf = RandomForestRegressor(max_depth=50, random_state=0, n_estimators=100,max_features=2)\n",
    "rf.fit(X_train, Y_train)  \n",
    "print(rf.feature_importances_)\n",
    "importances = rf.feature_importances_\n",
    "features = X_train.columns"
   ]
  },
  {
   "cell_type": "code",
   "execution_count": 33,
   "metadata": {
    "colab": {
     "base_uri": "https://localhost:8080/",
     "height": 295
    },
    "colab_type": "code",
    "id": "nim43elE0GZN",
    "outputId": "379d30d1-40e8-48c3-a2d7-50b7379c6c58"
   },
   "outputs": [
    {
     "data": {
      "image/png": "[encoded data removed]",
      "text/plain": [
       "<Figure size 432x288 with 1 Axes>"
      ]
     },
     "metadata": {
      "needs_background": "light"
     },
     "output_type": "display_data"
    }
   ],
   "source": [
    "plotImp(importances,features)"
   ]
  },
  {
   "cell_type": "code",
   "execution_count": null,
   "metadata": {
    "colab": {},
    "colab_type": "code",
    "id": "Vbdflsbs0jP2"
   },
   "outputs": [],
   "source": []
  },
  {
   "cell_type": "code",
   "execution_count": 26,
   "metadata": {
    "colab": {},
    "colab_type": "code",
    "id": "huL6NZw3iEW9"
   },
   "outputs": [],
   "source": [
    "#https://github.com/parrt/random-forest-importances/blob/master/src/rfpimp.py\n",
    "def oob_regression_r2_score(rf, X_train, y_train):\n",
    "    \"\"\"\n",
    "    Compute out-of-bag (OOB) R^2 for a scikit-learn random forest\n",
    "    regressor. We learned the guts of scikit's RF from the BSD licensed\n",
    "    code:\n",
    "    https://github.com/scikit-learn/scikit-learn/blob/a24c8b46/sklearn/ensemble/forest.py#L702\n",
    "    \"\"\"\n",
    "    X = X_train.values if isinstance(X_train, pd.DataFrame) else X_train\n",
    "    y = y_train.values if isinstance(y_train, pd.Series) else y_train\n",
    "\n",
    "    n_samples = len(X)\n",
    "    predictions = np.zeros(n_samples)\n",
    "    n_predictions = np.zeros(n_samples)\n",
    "    for tree in rf.estimators_:\n",
    "\n",
    "        if LooseVersion (sklearn.__version__) >= LooseVersion(\"0.22\"):\n",
    "           # print(\"The sklearn version is: \"+sklearn.__version__)\n",
    "            \n",
    "            n_samples_bootstrap = _get_n_samples_bootstrap(n_samples, n_samples)\n",
    "            unsampled_indices=_generate_unsampled_indices(tree.random_state, n_samples,n_samples_bootstrap)\n",
    "           \n",
    "        else:\n",
    "            unsampled_indices = generate_unsampled_indices(tree.random_state, n_samples)\n",
    "      \n",
    "        tree_preds = tree.predict(X[unsampled_indices, :])\n",
    "        predictions[unsampled_indices] += tree_preds\n",
    "        n_predictions[unsampled_indices] += 1\n",
    "\n",
    "    if (n_predictions == 0).any():\n",
    "        warnings.warn(\"Too few trees; some variables do not have OOB scores.\")\n",
    "        n_predictions[n_predictions == 0] = 1\n",
    "\n",
    "    predictions /= n_predictions\n",
    "\n",
    "    oob_score = r2_score(y, predictions)\n",
    "    return oob_score\n",
    "\n",
    "#http://bakfu.github.io/doc/_modules/sklearn/ensemble/forest.html\n",
    "from sklearn.utils import check_random_state #, check_array, compute_sample_weight\n",
    "#from sklearn.utils.fixes import bincount\n",
    "\n",
    "def generate_sample_indices(random_state, n_samples):\n",
    "    \"\"\"Private function used to _parallel_build_trees function.\"\"\"\n",
    "    random_instance = check_random_state(random_state)\n",
    "    sample_indices = random_instance.randint(0, n_samples, n_samples)\n",
    "\n",
    "    return sample_indices\n",
    "\n",
    "def generate_unsampled_indices(random_state, n_samples):\n",
    "    \"\"\"Private function used to forest._set_oob_score fuction.\"\"\"\n",
    "    sample_indices = generate_sample_indices(random_state, n_samples)\n",
    "    sample_counts = np.bincount(sample_indices, minlength=n_samples)\n",
    "    unsampled_mask = sample_counts == 0\n",
    "    indices_range = np.arange(n_samples)\n",
    "    unsampled_indices = indices_range[unsampled_mask]\n",
    "\n",
    "    return unsampled_indices"
   ]
  },
  {
   "cell_type": "code",
   "execution_count": 34,
   "metadata": {
    "tags": []
   },
   "outputs": [
    {
     "output_type": "stream",
     "name": "stdout",
     "text": "0.35121601310383443\n"
    }
   ],
   "source": [
    "##testing the oob_regression_r2_score\n",
    "oob_score =oob_regression_r2_score(rf,X_train,Y_train)\n",
    "print(oob_score)"
   ]
  },
  {
   "cell_type": "code",
   "execution_count": 35,
   "metadata": {
    "colab": {
     "base_uri": "https://localhost:8080/",
     "height": 1000
    },
    "colab_type": "code",
    "id": "qtQYn_2q1Y68",
    "outputId": "db5743c1-d14b-42dc-f107-7d0c03c15553"
   },
   "outputs": [],
   "source": [
    "n_samples, p = X_train.shape\n",
    "\n",
    "if (rerun):\n",
    "    explainer = shap.TreeExplainer(rf)\n",
    "    shapGlobal = explainer.shap_values(X_train)\n",
    "\n",
    "    k=0\n",
    "    shap_oob = np.zeros((n_samples,p, rf.n_estimators))\n",
    "    shap_inbag = np.zeros((n_samples,p, rf.n_estimators))\n",
    "    for tree in rf.estimators_:\n",
    "      tree_preds = tree.predict(X_train)\n",
    "      if LooseVersion(sklearn.__version__) >= LooseVersion(\"0.22\"):\n",
    "           n_samples_bootstrap = _get_n_samples_bootstrap(n_samples, n_samples)\n",
    "           unsampled_indices=_generate_unsampled_indices(tree.random_state, n_samples,n_samples_bootstrap)\n",
    "\n",
    "      else:\n",
    "           unsampled_indices = generate_unsampled_indices(tree.random_state, n_samples)\n",
    "     \n",
    "      sampled_indices = generate_sample_indices(tree.random_state, n_samples)\n",
    "      explainer = shap.TreeExplainer(tree)\n",
    "      shap_oob[unsampled_indices,:,k] = explainer.shap_values(X_train.iloc[unsampled_indices,:])\n",
    "      shap_inbag[sampled_indices,:,k] = explainer.shap_values(X_train.iloc[sampled_indices,:])\n",
    "      #print(k)\n",
    "      k+=1"
   ]
  },
  {
   "cell_type": "code",
   "execution_count": 37,
   "metadata": {
    "colab": {
     "base_uri": "https://localhost:8080/",
     "height": 56
    },
    "colab_type": "code",
    "id": "fDo_M51e3bs9",
    "outputId": "f348fc4b-490e-4d23-9047-746fc9af9970"
   },
   "outputs": [],
   "source": [
    "#from https://stackoverflow.com/questions/20716812/saving-and-loading-multiple-objects-in-pickle-file\n",
    "\n",
    "if (rerun):\n",
    "    file = open('shap_oob.pkl','wb')\n",
    "\n",
    "    pickle.dump(shapGlobal, file)\n",
    "    pickle.dump(shap_oob, file)\n",
    "    pickle.dump(shap_inbag, file)\n",
    "\n",
    "    file.close()\n",
    "else:\n",
    "    file = open('shap_oob.pkl', 'rb')\n",
    "    shapGlobal = pickle.load(file) \n",
    "    shap_oob = pickle.load(file)\n",
    "    shap_inbag = pickle.load(file)\n",
    "\n",
    "    file.close()\n",
    "#explainer\n",
    "#explainer.shap_values(X_train.iloc[unsampled_indices,:])\n",
    "#explainer.shap_values(X_train.iloc[sampled_indices,:])\n",
    "\n",
    "#explainer = shap.TreeExplainer(rf.estimators_[1])"
   ]
  },
  {
   "cell_type": "code",
   "execution_count": 38,
   "metadata": {},
   "outputs": [
    {
     "output_type": "execute_result",
     "data": {
      "text/plain": "(571, 4, 100)"
     },
     "metadata": {},
     "execution_count": 38
    }
   ],
   "source": [
    "shap_oob.shape"
   ]
  },
  {
   "cell_type": "code",
   "execution_count": 25,
   "metadata": {
    "colab": {
     "base_uri": "https://localhost:8080/",
     "height": 295
    },
    "colab_type": "code",
    "id": "BulveXtIRje0",
    "outputId": "c669952a-81e2-4052-b2c7-c041332d9373"
   },
   "outputs": [
    {
     "output_type": "display_data",
     "data": {
      "text/plain": "<Figure size 432x288 with 1 Axes>",
      "image/png": "[encoded data removed]"
     },
     "metadata": {
      "needs_background": "light"
     }
    }
   ],
   "source": [
    "plotImp(np.sum(np.abs(shapGlobal), axis=0),features, main = 'SHAP ',xlab='Relative Importance')"
   ]
  },
  {
   "cell_type": "code",
   "execution_count": 39,
   "metadata": {
    "colab": {},
    "colab_type": "code",
    "id": "aBQYnjbp1hHj"
   },
   "outputs": [],
   "source": [
    "shap_oob_avg = np.sum(shap_oob, axis=2) \n",
    "shap_inbag_avg = np.sum(shap_inbag, axis=2)\n",
    "shap_oob_avg\n",
    "globalSHAPImp_oob =np.sum(np.abs(shap_oob_avg), axis=0)\n",
    "globalSHAPImp_inbag = np.sum(np.abs(shap_inbag_avg), axis=0)"
   ]
  },
  {
   "cell_type": "code",
   "execution_count": 39,
   "metadata": {
    "colab": {
     "base_uri": "https://localhost:8080/",
     "height": 295
    },
    "colab_type": "code",
    "id": "KnNgUvJH1kNV",
    "outputId": "8ec527f0-2671-4ef6-ec96-9d129afe2651"
   },
   "outputs": [
    {
     "data": {
      "image/png": "[encoded data removed]",
      "text/plain": [
       "<Figure size 432x288 with 1 Axes>"
      ]
     },
     "metadata": {
      "needs_background": "light"
     },
     "output_type": "display_data"
    }
   ],
   "source": [
    "plotImp(globalSHAPImp_oob,features, main = 'SHAP OOB',xlab='Relative Importance')"
   ]
  },
  {
   "cell_type": "code",
   "execution_count": 40,
   "metadata": {
    "colab": {
     "base_uri": "https://localhost:8080/",
     "height": 295
    },
    "colab_type": "code",
    "id": "3eFwH3wA1k6k",
    "outputId": "d091dabe-efb9-4dbd-ac2b-a71c3c8f9008"
   },
   "outputs": [
    {
     "output_type": "display_data",
     "data": {
      "text/plain": "<Figure size 432x288 with 1 Axes>",
      "image/png": "[encoded data removed]"
     },
     "metadata": {
      "needs_background": "light"
     }
    }
   ],
   "source": [
    "plotImp(globalSHAPImp_inbag,features, main = 'SHAP Inbag',xlab='Relative Importance')"
   ]
  },
  {
   "cell_type": "code",
   "execution_count": 41,
   "metadata": {},
   "outputs": [
    {
     "output_type": "execute_result",
     "data": {
      "text/plain": "array([[ 1.24633264,  3.53129469, 14.89407259,  0.21446471],\n       [-2.84267112, -1.73109557, -9.0472997 , -0.41571119],\n       [-0.93057564, -1.55181178, -6.91580423, -1.11319189],\n       ...,\n       [-3.92913967,  5.9180123 , -8.07759612, -2.04262503],\n       [-0.75856113, -5.31897267, -4.16212188, -4.27873311],\n       [-2.52652039,  8.93649831, 13.91815905, -2.44722628]])"
     },
     "metadata": {},
     "execution_count": 41
    }
   ],
   "source": [
    "shap_oob_avg "
   ]
  },
  {
   "cell_type": "code",
   "execution_count": 45,
   "metadata": {},
   "outputs": [
    {
     "data": {
      "text/plain": [
       "array([ 2.14464705e-01, -4.15711188e-01, -1.11319189e+00, -2.27020853e+00,\n",
       "       -1.08100413e+00,  5.82356832e+00, -1.57939831e+00,  4.20968642e+00,\n",
       "        3.33867606e+00,  2.73941594e+00,  1.00827174e+00,  3.11588924e+00,\n",
       "       -2.18584049e+00, -7.79219716e-01, -3.19390992e+00, -1.91496248e+00,\n",
       "        1.08953959e+00, -3.11544002e-01, -1.71661819e+00,  2.70934251e+00,\n",
       "        2.38211006e+00, -2.35200924e+00, -7.53071772e-01,  4.47974121e+00,\n",
       "       -1.41297672e+00,  1.68233078e-01,  2.46718752e+00,  1.40135163e+00,\n",
       "        1.23132464e+00,  1.12138846e+00,  7.60503076e+00, -1.83055101e+00,\n",
       "       -1.95557714e+00,  7.19360326e-01, -4.57169311e-01, -4.85415183e+00,\n",
       "        9.96721601e-01, -1.22586467e+00, -1.29486456e+00, -3.42800567e+00,\n",
       "       -1.31990501e+00, -1.44870818e-01,  6.28691919e-01,  1.39158441e+00,\n",
       "       -5.90653342e-02,  1.53962548e+00, -6.53229281e-02, -1.98507890e+00,\n",
       "       -3.27389098e+00,  1.50452393e+00,  2.87885912e+00,  1.33341763e+00,\n",
       "       -2.03697871e+00,  5.73938541e+00,  1.15714906e+00, -1.03184559e+00,\n",
       "        2.34675260e+00,  6.62537823e-01, -4.08366214e+00,  5.36438028e-01,\n",
       "       -2.07477662e+00,  4.07986109e+00,  4.82754820e-01, -4.22032012e+00,\n",
       "        6.81452447e-01, -1.06762638e+00, -1.60300776e-01,  1.65215794e+00,\n",
       "       -2.48269564e+00, -1.43936550e+00,  2.81227173e-01, -1.92527076e-01,\n",
       "       -7.73213093e-01,  1.61912829e+00,  2.13000945e+00, -2.72032831e+00,\n",
       "        7.87228759e+00, -2.92173516e+00,  6.03316097e+00, -3.82593510e-01,\n",
       "       -6.56915721e-01, -1.48749222e+00,  5.49878681e-01, -2.03165887e+00,\n",
       "       -5.93977782e-01,  1.35066390e+00, -6.51649857e+00, -5.81314468e+00,\n",
       "        2.39644335e+00, -2.36894748e-01, -6.79736535e+00, -8.22094464e-03,\n",
       "       -3.62118982e+00, -5.46923641e-01,  1.20653625e+00,  1.07376953e+00,\n",
       "       -1.64209395e+00, -1.54132019e+00,  9.17498404e-01,  2.60070470e-01,\n",
       "        3.38151389e+00, -1.18927525e+00, -3.28834919e+00,  2.62512281e+00,\n",
       "       -2.25999917e+00, -3.35631914e+00, -1.44051158e+00,  6.54776604e+00,\n",
       "       -9.88565440e-02,  3.42398518e+00,  6.63785282e+00, -3.79126496e+00,\n",
       "       -1.14957951e+00,  7.57692654e+00,  9.31422380e-01, -1.20196414e+00,\n",
       "        1.30422786e+00,  6.59310801e-01, -6.17369504e-01,  2.33399694e+00,\n",
       "        1.02093158e+00, -2.16762102e+00,  3.29945738e-01, -2.81168506e+00,\n",
       "        4.06142380e+00,  2.55086017e+00,  1.68371172e+00, -2.38935608e+00,\n",
       "       -2.48008730e+00, -1.39907795e+00, -2.44616629e+00, -5.13326740e-01,\n",
       "       -4.90995548e+00, -6.34023892e+00, -3.99302772e+00,  1.12183919e+00,\n",
       "        2.18726821e+00, -1.41810493e+00, -2.64269065e+00,  8.75937237e-01,\n",
       "        3.16430167e-01, -1.33072184e+00, -1.92327569e+00, -2.22378980e+00,\n",
       "        3.56809156e+00,  4.08761672e+00,  5.63816174e-01, -8.02019059e-01,\n",
       "       -3.64058981e+00,  2.18691068e+00,  3.06234511e+00,  2.65163622e+00,\n",
       "       -1.07639027e+00, -1.59377611e+00, -2.46809878e+00, -1.02088111e+01,\n",
       "       -1.34868563e+00,  7.09146261e-01, -2.06436629e+00,  6.04674943e-01,\n",
       "        1.81923415e+00, -3.12839948e+00, -4.24460317e-01, -1.07212380e-01,\n",
       "        5.58369172e-01, -6.59083277e+00,  1.72286506e+00, -2.46016110e+00,\n",
       "       -4.84091192e-01, -1.55668347e+00, -5.33680601e+00,  1.09231462e+00,\n",
       "        6.93036295e-01,  3.62637338e-01, -3.72460407e-01,  1.05549461e+00,\n",
       "       -1.36157314e+00, -2.41292444e+00,  5.98181219e-01,  6.91056385e+00,\n",
       "        1.20765979e+00,  1.04790676e+00, -8.65333039e-01, -2.66989483e-01,\n",
       "       -2.18059751e+00, -1.94077363e+00,  3.59313246e+00,  2.12120997e+00,\n",
       "       -5.21177471e+00,  1.47641935e+00,  2.28822419e+00, -1.86859160e+00,\n",
       "        1.52682332e-01,  1.98035636e+00,  4.66960638e-01,  4.59079935e-01,\n",
       "       -1.03827522e+00,  2.76507605e+00,  8.77507809e-01,  3.26297656e+00,\n",
       "        3.28494569e+00,  5.30791856e+00,  6.25584373e-01, -3.13238426e-01,\n",
       "        4.48427361e+00,  4.12663359e+00, -4.49099643e+00, -2.34348254e+00,\n",
       "       -1.25732026e+00, -3.74601532e+00,  2.26606422e+00, -7.52001600e+00,\n",
       "        3.55334604e+00,  4.57794142e+00, -6.67454285e-02,  4.56282993e+00,\n",
       "        9.11452394e+00, -1.44625797e+00, -2.95783639e+00, -2.98053367e+00,\n",
       "        1.32743263e+00,  6.81056283e-01,  5.81885896e-01,  4.45584054e+00,\n",
       "        4.95702505e+00,  6.80530340e+00, -3.02045903e+00,  5.54220951e-01,\n",
       "       -6.76883025e-01, -5.69263192e+00,  2.46203983e+00,  6.37149285e+00,\n",
       "       -1.50965147e+00,  4.37172804e+00, -1.73844491e+00,  3.03957740e-01,\n",
       "       -3.11021554e+00, -6.33799854e+00,  1.07913123e+00, -5.41887752e-01,\n",
       "       -5.68593925e+00, -1.86093439e+00,  8.29891950e-01,  8.61725093e+00,\n",
       "       -3.84382485e-01,  1.32294732e+00,  1.30339541e+00, -5.18645924e+00,\n",
       "       -1.51933679e+00,  1.20151297e+00,  4.10002591e+00,  2.36163107e+00,\n",
       "        5.96445447e+00, -1.05472144e+00,  1.19841069e+00, -1.25287700e+00,\n",
       "       -5.19038499e+00, -1.39313413e+00,  6.22884764e-01,  2.73794503e-01,\n",
       "       -1.82833106e+00, -1.20813153e+00,  2.83193640e-01, -1.54683847e+00,\n",
       "       -1.89434753e+00,  9.89443713e-01,  5.17742121e+00, -1.11065352e+00,\n",
       "        1.74437921e+00, -2.08199394e+00, -4.71724804e+00, -2.24053468e+00,\n",
       "       -1.90644760e+00, -1.73356720e+00, -1.14707627e+00, -4.18547929e-01,\n",
       "       -3.13064878e-01, -7.83897329e-01,  4.02497199e+00,  2.06715102e-01,\n",
       "       -1.09668520e+00, -1.26125100e+00, -2.85709316e+00, -2.04809980e+00,\n",
       "       -2.95517934e+00,  1.69044552e+00,  1.26956657e+00,  1.75156819e+00,\n",
       "       -1.26773084e-01, -6.03089718e+00,  6.51791192e-01, -6.79104469e+00,\n",
       "        3.46959978e+00, -3.26697283e-01,  1.66956030e+00,  2.91904250e+00,\n",
       "       -8.02047852e-01, -1.27501857e+00,  9.23041617e-01,  5.69910092e-01,\n",
       "       -2.17082479e+00,  4.95368353e+00, -4.59508010e-01,  6.46583851e+00,\n",
       "       -1.66838823e+00,  1.28668821e+00, -3.56153008e+00,  2.53145743e-01,\n",
       "        2.68674572e+00, -3.92687390e+00, -2.56241958e+00, -3.95422743e-01,\n",
       "        6.93063282e-01,  1.09881194e+00, -5.01214025e+00, -2.17626210e+00,\n",
       "        1.81041328e-01, -6.39913273e+00, -1.20425116e+00,  1.81454959e+00,\n",
       "       -4.84840027e+00,  9.87321970e-01, -2.04564550e+00,  1.10443985e-01,\n",
       "        1.35243544e+00,  5.55473156e+00,  4.84884101e+00, -4.87405669e-01,\n",
       "       -3.63847683e-02, -1.26427082e+00, -1.52108225e+00,  1.10789399e+00,\n",
       "        4.68218014e-01,  8.86383600e-01, -3.35955495e+00, -1.07456885e+00,\n",
       "        4.93524291e-02, -2.91910997e-01,  2.00529500e+00, -2.59429801e+00,\n",
       "        2.07162461e+00,  2.06183634e+00,  2.20638394e+00, -3.83208554e-01,\n",
       "        2.58155465e-02,  4.83389772e-02, -1.09259782e+00, -1.21447284e+00,\n",
       "       -4.61027033e-01, -8.16221662e-01,  2.21382412e+00,  5.32887838e-01,\n",
       "       -2.92004014e+00, -2.99624245e+00, -3.80696334e-01, -2.88354873e-01,\n",
       "        1.98239039e-01,  3.67984725e+00, -1.91357190e-01,  1.06673702e+01,\n",
       "        4.33825366e+00, -4.14931334e-01, -1.41690390e-01, -4.07639244e+00,\n",
       "       -4.98195766e-01,  1.30427445e+00, -3.06239673e-01, -4.30382414e+00,\n",
       "        3.06237830e+00, -2.96124467e+00, -2.91345572e-01, -3.25471736e+00,\n",
       "       -1.09261004e+00, -1.63008629e+00, -1.20765838e+00,  1.31803224e+00,\n",
       "       -5.06193761e+00, -8.77266827e-02, -7.17781916e-01, -3.30651136e-01,\n",
       "       -5.86340774e-01, -1.74928506e+00, -3.37283793e+00, -1.28739470e+00,\n",
       "       -1.77419823e+00, -1.43213686e+00, -2.47433761e+00, -2.92898445e+00,\n",
       "       -1.70065677e+00, -2.58660337e+00, -1.36686512e+00,  2.30626483e-01,\n",
       "       -7.10512846e-01,  1.96616387e+00, -5.97904990e-02, -4.00791755e-01,\n",
       "       -4.13259820e-01,  1.08303111e+00,  5.22426474e-01,  7.60929834e-01,\n",
       "       -3.34654544e+00, -4.64267224e+00, -1.95933838e+00, -7.21979839e-02,\n",
       "       -1.23931724e+00, -5.75839235e+00, -8.59635024e+00,  7.40537953e+00,\n",
       "        9.23674801e-01,  7.19518676e+00, -2.09137660e+00, -8.72139266e-01,\n",
       "       -1.60520161e+00,  3.82958389e-01, -1.19482361e+00,  3.91713505e-01,\n",
       "       -3.96674566e-01, -6.97959475e+00, -1.59812480e+00,  6.65977022e-01,\n",
       "        1.57189886e+00,  1.73967306e+00, -4.30981239e+00,  4.05819098e-01,\n",
       "       -2.77739744e+00,  6.71927047e-01,  5.34432600e-02,  4.46112541e+00,\n",
       "        2.89151427e-01,  1.40126262e+00, -2.26910565e+00,  6.55236719e-01,\n",
       "        9.53931527e-01, -4.16853491e-01,  9.65468599e-02,  3.44299323e+00,\n",
       "        1.26169560e+00, -7.15625082e+00,  3.39519933e+00, -1.44388027e+00,\n",
       "       -1.74504945e+00,  4.36277899e+00, -4.81553797e+00,  1.06294487e+00,\n",
       "       -2.75902412e+00, -1.54924648e+00, -2.02862713e-01, -4.29015392e-01,\n",
       "        5.93200114e+00, -1.00574061e-01, -2.36957406e+00, -5.05833409e-01,\n",
       "       -2.29769235e+00, -1.06883273e+00,  1.38646700e+00,  2.39688057e-01,\n",
       "       -4.18455107e+00,  4.16920742e-01, -2.96800181e+00, -1.83271433e+00,\n",
       "       -4.54311320e+00, -3.90881705e+00,  1.36583618e+00, -2.20409194e+00,\n",
       "        4.85156435e-01, -1.16662721e-01,  1.60483354e+00, -9.98512988e-01,\n",
       "       -8.00531282e-02, -1.79839151e+00,  5.39104744e-01, -5.87526666e+00,\n",
       "       -9.62069428e-01,  3.03370597e+00, -2.40105823e+00,  9.50041574e-01,\n",
       "        3.77863141e-01,  5.34048804e+00,  2.07958638e+00,  2.77354371e+00,\n",
       "       -9.66347490e-01,  2.92427587e+00, -2.14836724e+00,  3.48010358e+00,\n",
       "       -1.57771295e+00,  1.93638132e+00, -2.66650669e-01, -6.83187915e-01,\n",
       "        3.14454020e+00, -4.28979171e+00, -1.86331443e-02, -4.15726289e+00,\n",
       "       -1.35443182e-01,  1.90676936e-01, -4.03429278e-01, -4.29170221e-01,\n",
       "        1.04643573e+01, -1.89348714e+00,  6.08673201e+00,  3.26616836e-01,\n",
       "       -3.12229141e+00, -3.74624806e+00, -5.88594302e+00,  1.51982068e+00,\n",
       "       -3.19988319e+00,  1.19985142e-01, -1.14749305e+00,  2.21017799e-01,\n",
       "       -2.17972154e+00, -3.12301488e+00, -3.27823750e+00, -7.65605422e-01,\n",
       "       -1.10540522e+00, -1.67427122e+00, -2.23722541e+00, -8.12093920e-02,\n",
       "       -1.41451150e+00, -3.78157725e-01,  2.49354452e+00, -3.49001605e-02,\n",
       "        3.94196903e-01, -3.92568538e-01, -1.69512031e-01, -9.94995951e-01,\n",
       "        1.32187346e+00,  1.49363374e+00,  8.23391860e-01, -2.18189683e+00,\n",
       "       -6.98727749e-01, -2.76910839e+00,  5.68744057e+00,  1.62353050e+00,\n",
       "        4.97797814e+00, -9.42232376e-01, -4.33457751e+00,  1.12779516e-01,\n",
       "       -3.29348474e+00, -2.77308008e+00, -2.81932505e+00,  4.00904983e-01,\n",
       "       -7.02702996e-01, -1.47627917e+00,  2.03417459e+00, -2.57646970e+00,\n",
       "        3.90860176e+00, -1.09613546e+00,  2.43757720e+00,  5.94819025e-01,\n",
       "       -1.33588531e+00, -3.24027238e+00,  2.59039441e+00, -1.31208925e+00,\n",
       "       -1.69204319e+00,  1.25995156e+00, -3.81600087e+00, -7.89249495e-02,\n",
       "       -5.90811030e+00, -1.54578028e+00, -6.11140376e-02, -1.38085913e+00,\n",
       "       -1.62694414e-01, -4.30897580e+00, -3.27718065e+00, -9.27779087e-01,\n",
       "       -4.94431925e+00,  1.26530667e+00, -1.12897726e+00,  1.57734611e+00,\n",
       "       -2.04262503e+00, -4.27873311e+00, -2.44722628e+00])"
      ]
     },
     "execution_count": 45,
     "metadata": {},
     "output_type": "execute_result"
    }
   ],
   "source": [
    "shap_oob_avg[:,3]"
   ]
  },
  {
   "cell_type": "code",
   "execution_count": 42,
   "metadata": {},
   "outputs": [],
   "source": [
    "np.savetxt(\"shap_oob_avg.csv\", shap_oob_avg, delimiter=\",\")\n",
    "np.savetxt(\"shap_inbag_avg.csv\", shap_inbag_avg, delimiter=\",\")\n"
   ]
  },
  {
   "cell_type": "code",
   "execution_count": 43,
   "metadata": {},
   "outputs": [
    {
     "output_type": "execute_result",
     "data": {
      "text/plain": "pandas.core.series.Series"
     },
     "metadata": {},
     "execution_count": 43
    }
   ],
   "source": [
    "type(Y_train)"
   ]
  },
  {
   "cell_type": "code",
   "execution_count": 51,
   "metadata": {},
   "outputs": [],
   "source": [
    "np.savetxt(\"Y_train.csv\", Y_train, delimiter=\",\") "
   ]
  },
  {
   "cell_type": "code",
   "execution_count": null,
   "metadata": {},
   "outputs": [],
   "source": []
  },
  {
   "cell_type": "code",
   "execution_count": null,
   "metadata": {},
   "outputs": [],
   "source": []
  }
 ],
 "metadata": {
  "colab": {
   "collapsed_sections": [],
   "name": "SHAPoob.ipynb",
   "provenance": []
  },
  "kernelspec": {
   "display_name": "Python 3",
   "language": "python",
   "name": "python3"
  },
  "language_info": {
   "codemirror_mode": {
    "name": "ipython",
    "version": 3
   },
   "file_extension": ".py",
   "mimetype": "text/x-python",
   "name": "python",
   "nbconvert_exporter": "python",
   "pygments_lexer": "ipython3",
   "version": "3.6.9-final"
  }
 },
 "nbformat": 4,
 "nbformat_minor": 1
}